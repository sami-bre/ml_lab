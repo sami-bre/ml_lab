{
 "cells": [
  {
   "cell_type": "code",
   "execution_count": 1,
   "metadata": {
    "_cell_guid": "b1076dfc-b9ad-4769-8c92-a6c4dae69d19",
    "_uuid": "8f2839f25d086af736a60e9eeb907d3b93b6e0e5",
    "execution": {
     "iopub.execute_input": "2023-10-16T18:34:39.579748Z",
     "iopub.status.busy": "2023-10-16T18:34:39.579031Z",
     "iopub.status.idle": "2023-10-16T18:34:41.157967Z",
     "shell.execute_reply": "2023-10-16T18:34:41.157363Z",
     "shell.execute_reply.started": "2023-10-16T18:02:50.805691Z"
    },
    "papermill": {
     "duration": 1.594619,
     "end_time": "2023-10-16T18:34:41.158072",
     "exception": false,
     "start_time": "2023-10-16T18:34:39.563453",
     "status": "completed"
    },
    "tags": []
   },
   "outputs": [],
   "source": [
    "import numpy as np\n",
    "import pandas as pd\n",
    "import matplotlib.pyplot as plt\n",
    "from numba import cuda, jit, float32\n",
    "from sklearn.model_selection import train_test_split\n",
    "from tqdm import tqdm\n",
    "import string"
   ]
  },
  {
   "cell_type": "markdown",
   "metadata": {
    "papermill": {
     "duration": 0.009507,
     "end_time": "2023-10-16T18:34:41.177582",
     "exception": false,
     "start_time": "2023-10-16T18:34:41.168075",
     "status": "completed"
    },
    "tags": []
   },
   "source": [
    "# Data Preparation"
   ]
  },
  {
   "cell_type": "code",
   "execution_count": 2,
   "metadata": {
    "_cell_guid": "79c7e3d0-c299-4dcb-8224-4455121ee9b0",
    "_uuid": "d629ff2d2480ee46fbb7e2d37f6b5fab8052498a",
    "execution": {
     "iopub.execute_input": "2023-10-16T18:34:41.205444Z",
     "iopub.status.busy": "2023-10-16T18:34:41.204927Z",
     "iopub.status.idle": "2023-10-16T18:35:09.112887Z",
     "shell.execute_reply": "2023-10-16T18:35:09.112265Z",
     "shell.execute_reply.started": "2023-10-16T18:02:56.513938Z"
    },
    "papermill": {
     "duration": 27.925779,
     "end_time": "2023-10-16T18:35:09.112994",
     "exception": false,
     "start_time": "2023-10-16T18:34:41.187215",
     "status": "completed"
    },
    "tags": []
   },
   "outputs": [],
   "source": [
    "df = pd.read_csv('../input/handwritten-az/handwritten_data_785.csv')"
   ]
  },
  {
   "cell_type": "code",
   "execution_count": 3,
   "metadata": {
    "execution": {
     "iopub.execute_input": "2023-10-16T18:35:09.139558Z",
     "iopub.status.busy": "2023-10-16T18:35:09.138821Z",
     "iopub.status.idle": "2023-10-16T18:35:09.142031Z",
     "shell.execute_reply": "2023-10-16T18:35:09.142438Z",
     "shell.execute_reply.started": "2023-10-16T18:05:06.487708Z"
    },
    "papermill": {
     "duration": 0.019589,
     "end_time": "2023-10-16T18:35:09.142544",
     "exception": false,
     "start_time": "2023-10-16T18:35:09.122955",
     "status": "completed"
    },
    "tags": []
   },
   "outputs": [
    {
     "data": {
      "text/plain": [
       "(372037, 785)"
      ]
     },
     "execution_count": 3,
     "metadata": {},
     "output_type": "execute_result"
    }
   ],
   "source": [
    "df.shape"
   ]
  },
  {
   "cell_type": "code",
   "execution_count": 4,
   "metadata": {
    "execution": {
     "iopub.execute_input": "2023-10-16T18:35:09.167028Z",
     "iopub.status.busy": "2023-10-16T18:35:09.166416Z",
     "iopub.status.idle": "2023-10-16T18:35:09.169233Z",
     "shell.execute_reply": "2023-10-16T18:35:09.168875Z",
     "shell.execute_reply.started": "2023-10-16T18:05:19.044821Z"
    },
    "papermill": {
     "duration": 0.016709,
     "end_time": "2023-10-16T18:35:09.169352",
     "exception": false,
     "start_time": "2023-10-16T18:35:09.152643",
     "status": "completed"
    },
    "tags": []
   },
   "outputs": [],
   "source": [
    "features = df.values[:,1:] \n",
    "labels = df.values[:,0]\n",
    "\n",
    "\n",
    "nr_to_letter = {k:v.upper() for k,v in enumerate(list(string.ascii_lowercase))}"
   ]
  },
  {
   "cell_type": "code",
   "execution_count": 5,
   "metadata": {
    "execution": {
     "iopub.execute_input": "2023-10-16T18:35:09.193268Z",
     "iopub.status.busy": "2023-10-16T18:35:09.192524Z",
     "iopub.status.idle": "2023-10-16T18:35:09.195730Z",
     "shell.execute_reply": "2023-10-16T18:35:09.196062Z",
     "shell.execute_reply.started": "2023-10-16T18:05:27.735152Z"
    },
    "papermill": {
     "duration": 0.016748,
     "end_time": "2023-10-16T18:35:09.196168",
     "exception": false,
     "start_time": "2023-10-16T18:35:09.179420",
     "status": "completed"
    },
    "tags": []
   },
   "outputs": [
    {
     "data": {
      "text/plain": [
       "(372037, 784)"
      ]
     },
     "execution_count": 5,
     "metadata": {},
     "output_type": "execute_result"
    }
   ],
   "source": [
    "features.shape"
   ]
  },
  {
   "cell_type": "code",
   "execution_count": 6,
   "metadata": {
    "execution": {
     "iopub.execute_input": "2023-10-16T18:35:09.222583Z",
     "iopub.status.busy": "2023-10-16T18:35:09.221807Z",
     "iopub.status.idle": "2023-10-16T18:35:09.225172Z",
     "shell.execute_reply": "2023-10-16T18:35:09.225567Z",
     "shell.execute_reply.started": "2023-10-16T18:05:31.345587Z"
    },
    "papermill": {
     "duration": 0.018777,
     "end_time": "2023-10-16T18:35:09.225680",
     "exception": false,
     "start_time": "2023-10-16T18:35:09.206903",
     "status": "completed"
    },
    "tags": []
   },
   "outputs": [
    {
     "data": {
      "text/plain": [
       "{0: 'A',\n",
       " 1: 'B',\n",
       " 2: 'C',\n",
       " 3: 'D',\n",
       " 4: 'E',\n",
       " 5: 'F',\n",
       " 6: 'G',\n",
       " 7: 'H',\n",
       " 8: 'I',\n",
       " 9: 'J',\n",
       " 10: 'K',\n",
       " 11: 'L',\n",
       " 12: 'M',\n",
       " 13: 'N',\n",
       " 14: 'O',\n",
       " 15: 'P',\n",
       " 16: 'Q',\n",
       " 17: 'R',\n",
       " 18: 'S',\n",
       " 19: 'T',\n",
       " 20: 'U',\n",
       " 21: 'V',\n",
       " 22: 'W',\n",
       " 23: 'X',\n",
       " 24: 'Y',\n",
       " 25: 'Z'}"
      ]
     },
     "execution_count": 6,
     "metadata": {},
     "output_type": "execute_result"
    }
   ],
   "source": [
    "nr_to_letter"
   ]
  },
  {
   "cell_type": "code",
   "execution_count": 7,
   "metadata": {
    "execution": {
     "iopub.execute_input": "2023-10-16T18:35:09.249957Z",
     "iopub.status.busy": "2023-10-16T18:35:09.249190Z",
     "iopub.status.idle": "2023-10-16T18:35:09.252868Z",
     "shell.execute_reply": "2023-10-16T18:35:09.252506Z",
     "shell.execute_reply.started": "2023-10-16T18:05:34.597183Z"
    },
    "papermill": {
     "duration": 0.016921,
     "end_time": "2023-10-16T18:35:09.252951",
     "exception": false,
     "start_time": "2023-10-16T18:35:09.236030",
     "status": "completed"
    },
    "tags": []
   },
   "outputs": [
    {
     "data": {
      "text/plain": [
       "784"
      ]
     },
     "execution_count": 7,
     "metadata": {},
     "output_type": "execute_result"
    }
   ],
   "source": [
    "28*28"
   ]
  },
  {
   "cell_type": "code",
   "execution_count": 8,
   "metadata": {
    "execution": {
     "iopub.execute_input": "2023-10-16T18:35:09.277480Z",
     "iopub.status.busy": "2023-10-16T18:35:09.276748Z",
     "iopub.status.idle": "2023-10-16T18:35:09.280312Z",
     "shell.execute_reply": "2023-10-16T18:35:09.279927Z",
     "shell.execute_reply.started": "2023-10-16T18:14:55.663866Z"
    },
    "papermill": {
     "duration": 0.01714,
     "end_time": "2023-10-16T18:35:09.280409",
     "exception": false,
     "start_time": "2023-10-16T18:35:09.263269",
     "status": "completed"
    },
    "tags": []
   },
   "outputs": [
    {
     "name": "stdout",
     "output_type": "stream",
     "text": [
      "shape of sample (784,)\n"
     ]
    }
   ],
   "source": [
    "sample = features[0]\n",
    "print(f'shape of sample {sample.shape}')"
   ]
  },
  {
   "cell_type": "markdown",
   "metadata": {
    "papermill": {
     "duration": 0.010529,
     "end_time": "2023-10-16T18:35:09.301679",
     "exception": false,
     "start_time": "2023-10-16T18:35:09.291150",
     "status": "completed"
    },
    "tags": []
   },
   "source": [
    "## Building the model"
   ]
  },
  {
   "cell_type": "code",
   "execution_count": 9,
   "metadata": {
    "execution": {
     "iopub.execute_input": "2023-10-16T18:35:09.327766Z",
     "iopub.status.busy": "2023-10-16T18:35:09.327135Z",
     "iopub.status.idle": "2023-10-16T18:35:13.694094Z",
     "shell.execute_reply": "2023-10-16T18:35:13.693639Z",
     "shell.execute_reply.started": "2023-10-16T18:14:59.909405Z"
    },
    "papermill": {
     "duration": 4.381479,
     "end_time": "2023-10-16T18:35:13.694192",
     "exception": false,
     "start_time": "2023-10-16T18:35:09.312713",
     "status": "completed"
    },
    "tags": []
   },
   "outputs": [],
   "source": [
    "import numpy as np\n",
    "from random import sample\n",
    "import tensorflow as tf\n",
    "from tensorflow.keras.layers.experimental.preprocessing import Normalization\n",
    "from tensorflow.keras.models import Sequential\n",
    "from tensorflow.keras.layers import Dense\n"
   ]
  },
  {
   "cell_type": "code",
   "execution_count": 10,
   "metadata": {
    "execution": {
     "iopub.execute_input": "2023-10-16T18:35:13.720665Z",
     "iopub.status.busy": "2023-10-16T18:35:13.719890Z",
     "iopub.status.idle": "2023-10-16T18:35:13.723876Z",
     "shell.execute_reply": "2023-10-16T18:35:13.723494Z",
     "shell.execute_reply.started": "2023-10-16T18:15:08.108466Z"
    },
    "papermill": {
     "duration": 0.01856,
     "end_time": "2023-10-16T18:35:13.723964",
     "exception": false,
     "start_time": "2023-10-16T18:35:13.705404",
     "status": "completed"
    },
    "tags": []
   },
   "outputs": [
    {
     "data": {
      "text/plain": [
       "True"
      ]
     },
     "execution_count": 10,
     "metadata": {},
     "output_type": "execute_result"
    }
   ],
   "source": [
    "len(features) == len(labels)"
   ]
  },
  {
   "cell_type": "code",
   "execution_count": 11,
   "metadata": {
    "execution": {
     "iopub.execute_input": "2023-10-16T18:35:13.751791Z",
     "iopub.status.busy": "2023-10-16T18:35:13.751045Z",
     "iopub.status.idle": "2023-10-16T18:35:14.888046Z",
     "shell.execute_reply": "2023-10-16T18:35:14.887560Z",
     "shell.execute_reply.started": "2023-10-16T18:15:11.865822Z"
    },
    "papermill": {
     "duration": 1.153207,
     "end_time": "2023-10-16T18:35:14.888141",
     "exception": false,
     "start_time": "2023-10-16T18:35:13.734934",
     "status": "completed"
    },
    "tags": []
   },
   "outputs": [
    {
     "name": "stdout",
     "output_type": "stream",
     "text": [
      "X_train shape: (371937, 784)\n",
      "X_test shape: (100, 784)\n",
      "\n",
      "Y_train shape: (371937,)\n",
      "Y_test shape: (100,)\n"
     ]
    }
   ],
   "source": [
    "# this is the whole data (training + testing)\n",
    "\n",
    "X = features\n",
    "Y = labels\n",
    "\n",
    "test_item_indices = sample(range(len(X)), 100)\n",
    "\n",
    "mask = np.ones(len(X), dtype=bool)\n",
    "mask[test_item_indices] = False\n",
    "\n",
    "X_train = X[mask]\n",
    "X_test = X[~mask]\n",
    "\n",
    "Y_train = Y[mask]\n",
    "Y_test = Y[~mask]\n",
    "\n",
    "# X_train = X\n",
    "# Y_train = Y\n",
    "\n",
    "print(f'X_train shape: {X_train.shape}')\n",
    "print(f'X_test shape: {X_test.shape}')\n",
    "print()\n",
    "print(f'Y_train shape: {Y_train.shape}')\n",
    "print(f'Y_test shape: {Y_test.shape}')"
   ]
  },
  {
   "cell_type": "markdown",
   "metadata": {
    "papermill": {
     "duration": 0.011268,
     "end_time": "2023-10-16T18:35:14.910844",
     "exception": false,
     "start_time": "2023-10-16T18:35:14.899576",
     "status": "completed"
    },
    "tags": []
   },
   "source": [
    "### Normalizing the data"
   ]
  },
  {
   "cell_type": "code",
   "execution_count": 12,
   "metadata": {
    "execution": {
     "iopub.execute_input": "2023-10-16T18:35:14.938495Z",
     "iopub.status.busy": "2023-10-16T18:35:14.937647Z",
     "iopub.status.idle": "2023-10-16T18:35:21.748101Z",
     "shell.execute_reply": "2023-10-16T18:35:21.747711Z",
     "shell.execute_reply.started": "2023-10-16T18:15:41.848358Z"
    },
    "papermill": {
     "duration": 6.825976,
     "end_time": "2023-10-16T18:35:21.748209",
     "exception": false,
     "start_time": "2023-10-16T18:35:14.922233",
     "status": "completed"
    },
    "tags": []
   },
   "outputs": [
    {
     "name": "stdout",
     "output_type": "stream",
     "text": [
      "pixel 290 (random)   Max, Min pre normalization: 255.00, 0.00\n",
      "pixel 290 (random)    Max, Min post normalization: 1.21, -1.12\n"
     ]
    }
   ],
   "source": [
    "print(f\"pixel 290 (random)   Max, Min pre normalization: {np.max(X_train[:,290]):0.2f}, {np.min(X[:,290]):0.2f}\")\n",
    "norm_l = Normalization(axis=-1)\n",
    "norm_l.adapt(X)    # learns mean and variance\n",
    "Xn = norm_l(X_train)\n",
    "print(f\"pixel 290 (random)    Max, Min post normalization: {np.max(Xn[:,290]):0.2f}, {np.min(Xn[:,290]):0.2f}\")"
   ]
  },
  {
   "cell_type": "code",
   "execution_count": 13,
   "metadata": {
    "execution": {
     "iopub.execute_input": "2023-10-16T18:35:21.779508Z",
     "iopub.status.busy": "2023-10-16T18:35:21.778906Z",
     "iopub.status.idle": "2023-10-16T18:35:21.823053Z",
     "shell.execute_reply": "2023-10-16T18:35:21.822678Z",
     "shell.execute_reply.started": "2023-10-16T18:32:15.621263Z"
    },
    "papermill": {
     "duration": 0.062908,
     "end_time": "2023-10-16T18:35:21.823143",
     "exception": false,
     "start_time": "2023-10-16T18:35:21.760235",
     "status": "completed"
    },
    "tags": []
   },
   "outputs": [
    {
     "name": "stdout",
     "output_type": "stream",
     "text": [
      "Model: \"sequential\"\n",
      "_________________________________________________________________\n",
      "Layer (type)                 Output Shape              Param #   \n",
      "=================================================================\n",
      "L1 (Dense)                   (None, 5)                 3925      \n",
      "_________________________________________________________________\n",
      "L2 (Dense)                   (None, 4)                 24        \n",
      "_________________________________________________________________\n",
      "L3 (Dense)                   (None, 3)                 15        \n",
      "=================================================================\n",
      "Total params: 3,964\n",
      "Trainable params: 3,964\n",
      "Non-trainable params: 0\n",
      "_________________________________________________________________\n"
     ]
    }
   ],
   "source": [
    "tf.random.set_seed(4321)\n",
    "model = Sequential([\n",
    "    tf.keras.Input(shape=(784,)),\n",
    "    Dense(5, activation='sigmoid', name='L1'),\n",
    "    Dense(4, activation='sigmoid', name='L2'),\n",
    "    Dense(3, activation='softmax', name='L3')\n",
    "])\n",
    "\n",
    "model.summary()"
   ]
  },
  {
   "cell_type": "code",
   "execution_count": 14,
   "metadata": {
    "execution": {
     "iopub.execute_input": "2023-10-16T18:35:21.850628Z",
     "iopub.status.busy": "2023-10-16T18:35:21.850133Z",
     "iopub.status.idle": "2023-10-16T18:35:21.856826Z",
     "shell.execute_reply": "2023-10-16T18:35:21.856447Z",
     "shell.execute_reply.started": "2023-10-16T18:32:21.809745Z"
    },
    "papermill": {
     "duration": 0.021942,
     "end_time": "2023-10-16T18:35:21.856913",
     "exception": false,
     "start_time": "2023-10-16T18:35:21.834971",
     "status": "completed"
    },
    "tags": []
   },
   "outputs": [
    {
     "data": {
      "text/plain": [
       "[array([[ 0.06170315,  0.3203423 , -0.03428686, -0.668941  ],\n",
       "        [ 0.5051141 , -0.41580436, -0.07314456,  0.6835302 ],\n",
       "        [-0.6298079 ,  0.5417683 , -0.4720885 , -0.08925974],\n",
       "        [ 0.13273102,  0.68023837,  0.7594863 ,  0.23648345],\n",
       "        [ 0.15924227, -0.5777004 , -0.09970623, -0.79421216]],\n",
       "       dtype=float32),\n",
       " array([0., 0., 0., 0.], dtype=float32)]"
      ]
     },
     "execution_count": 14,
     "metadata": {},
     "output_type": "execute_result"
    }
   ],
   "source": [
    "model.get_layer('L2').get_weights()"
   ]
  },
  {
   "cell_type": "code",
   "execution_count": 15,
   "metadata": {
    "execution": {
     "iopub.execute_input": "2023-10-16T18:35:21.890398Z",
     "iopub.status.busy": "2023-10-16T18:35:21.889624Z",
     "iopub.status.idle": "2023-10-16T18:35:21.895982Z",
     "shell.execute_reply": "2023-10-16T18:35:21.895611Z",
     "shell.execute_reply.started": "2023-10-16T18:32:25.760224Z"
    },
    "papermill": {
     "duration": 0.027152,
     "end_time": "2023-10-16T18:35:21.896066",
     "exception": false,
     "start_time": "2023-10-16T18:35:21.868914",
     "status": "completed"
    },
    "tags": []
   },
   "outputs": [],
   "source": [
    "model.compile(\n",
    "    loss='sparse_categorical_crossentropy',\n",
    "    optimizer=tf.keras.optimizers.Adam(learning_rate=0.01),\n",
    ")"
   ]
  },
  {
   "cell_type": "code",
   "execution_count": 16,
   "metadata": {
    "execution": {
     "iopub.execute_input": "2023-10-16T18:35:21.924149Z",
     "iopub.status.busy": "2023-10-16T18:35:21.923583Z",
     "iopub.status.idle": "2023-10-16T18:35:40.476794Z",
     "shell.execute_reply": "2023-10-16T18:35:40.476381Z",
     "shell.execute_reply.started": "2023-10-16T18:32:29.922335Z"
    },
    "papermill": {
     "duration": 18.56862,
     "end_time": "2023-10-16T18:35:40.476894",
     "exception": false,
     "start_time": "2023-10-16T18:35:21.908274",
     "status": "completed"
    },
    "tags": []
   },
   "outputs": [
    {
     "name": "stdout",
     "output_type": "stream",
     "text": [
      "11624/11624 [==============================] - 17s 1ms/step - loss: nan\n"
     ]
    },
    {
     "data": {
      "text/plain": [
       "<tensorflow.python.keras.callbacks.History at 0x7c01180bf890>"
      ]
     },
     "execution_count": 16,
     "metadata": {},
     "output_type": "execute_result"
    }
   ],
   "source": [
    "model.fit(\n",
    "    Xn, Y_train,\n",
    "    epochs=1\n",
    ")"
   ]
  },
  {
   "cell_type": "code",
   "execution_count": 17,
   "metadata": {
    "execution": {
     "iopub.execute_input": "2023-10-16T18:35:40.647416Z",
     "iopub.status.busy": "2023-10-16T18:35:40.646606Z",
     "iopub.status.idle": "2023-10-16T18:35:40.652584Z",
     "shell.execute_reply": "2023-10-16T18:35:40.652159Z",
     "shell.execute_reply.started": "2023-10-16T18:33:28.333472Z"
    },
    "papermill": {
     "duration": 0.093166,
     "end_time": "2023-10-16T18:35:40.652682",
     "exception": false,
     "start_time": "2023-10-16T18:35:40.559516",
     "status": "completed"
    },
    "tags": []
   },
   "outputs": [
    {
     "data": {
      "text/plain": [
       "[array([[nan, nan, nan, nan],\n",
       "        [nan, nan, nan, nan],\n",
       "        [nan, nan, nan, nan],\n",
       "        [nan, nan, nan, nan],\n",
       "        [nan, nan, nan, nan]], dtype=float32),\n",
       " array([nan, nan, nan, nan], dtype=float32)]"
      ]
     },
     "execution_count": 17,
     "metadata": {},
     "output_type": "execute_result"
    }
   ],
   "source": [
    "model.get_layer('L2').get_weights()"
   ]
  },
  {
   "cell_type": "code",
   "execution_count": null,
   "metadata": {
    "papermill": {
     "duration": 0.081795,
     "end_time": "2023-10-16T18:35:40.817215",
     "exception": false,
     "start_time": "2023-10-16T18:35:40.735420",
     "status": "completed"
    },
    "tags": []
   },
   "outputs": [],
   "source": []
  }
 ],
 "metadata": {
  "kernelspec": {
   "display_name": "Python 3",
   "language": "python",
   "name": "python3"
  },
  "language_info": {
   "codemirror_mode": {
    "name": "ipython",
    "version": 3
   },
   "file_extension": ".py",
   "mimetype": "text/x-python",
   "name": "python",
   "nbconvert_exporter": "python",
   "pygments_lexer": "ipython3",
   "version": "3.7.6"
  },
  "papermill": {
   "duration": 65.179321,
   "end_time": "2023-10-16T18:35:41.308427",
   "environment_variables": {},
   "exception": null,
   "input_path": "__notebook__.ipynb",
   "output_path": "__notebook__.ipynb",
   "parameters": {},
   "start_time": "2023-10-16T18:34:36.129106",
   "version": "2.1.0"
  }
 },
 "nbformat": 4,
 "nbformat_minor": 4
}
