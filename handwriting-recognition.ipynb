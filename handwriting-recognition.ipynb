{
 "cells": [
  {
   "cell_type": "code",
   "execution_count": 1,
   "metadata": {
    "_cell_guid": "b1076dfc-b9ad-4769-8c92-a6c4dae69d19",
    "_uuid": "8f2839f25d086af736a60e9eeb907d3b93b6e0e5",
    "execution": {
     "iopub.execute_input": "2023-10-16T20:37:26.571887Z",
     "iopub.status.busy": "2023-10-16T20:37:26.571115Z",
     "iopub.status.idle": "2023-10-16T20:37:28.096918Z",
     "shell.execute_reply": "2023-10-16T20:37:28.096319Z",
     "shell.execute_reply.started": "2023-10-16T19:41:27.477253Z"
    },
    "papermill": {
     "duration": 1.552883,
     "end_time": "2023-10-16T20:37:28.097030",
     "exception": false,
     "start_time": "2023-10-16T20:37:26.544147",
     "status": "completed"
    },
    "tags": []
   },
   "outputs": [],
   "source": [
    "import numpy as np\n",
    "import pandas as pd\n",
    "import matplotlib.pyplot as plt\n",
    "from numba import cuda, jit, float32\n",
    "from sklearn.model_selection import train_test_split\n",
    "from tqdm import tqdm\n",
    "import string"
   ]
  },
  {
   "cell_type": "markdown",
   "metadata": {
    "papermill": {
     "duration": 0.016889,
     "end_time": "2023-10-16T20:37:28.133430",
     "exception": false,
     "start_time": "2023-10-16T20:37:28.116541",
     "status": "completed"
    },
    "tags": []
   },
   "source": [
    "# Data Preparation"
   ]
  },
  {
   "cell_type": "code",
   "execution_count": 2,
   "metadata": {
    "_cell_guid": "79c7e3d0-c299-4dcb-8224-4455121ee9b0",
    "_uuid": "d629ff2d2480ee46fbb7e2d37f6b5fab8052498a",
    "execution": {
     "iopub.execute_input": "2023-10-16T20:37:28.175913Z",
     "iopub.status.busy": "2023-10-16T20:37:28.175428Z",
     "iopub.status.idle": "2023-10-16T20:37:53.540968Z",
     "shell.execute_reply": "2023-10-16T20:37:53.540414Z",
     "shell.execute_reply.started": "2023-10-16T19:41:29.090847Z"
    },
    "papermill": {
     "duration": 25.390596,
     "end_time": "2023-10-16T20:37:53.541066",
     "exception": false,
     "start_time": "2023-10-16T20:37:28.150470",
     "status": "completed"
    },
    "tags": []
   },
   "outputs": [],
   "source": [
    "df = pd.read_csv('../input/handwritten-az/handwritten_data_785.csv')"
   ]
  },
  {
   "cell_type": "code",
   "execution_count": 3,
   "metadata": {
    "execution": {
     "iopub.execute_input": "2023-10-16T20:37:53.580972Z",
     "iopub.status.busy": "2023-10-16T20:37:53.580232Z",
     "iopub.status.idle": "2023-10-16T20:37:53.583489Z",
     "shell.execute_reply": "2023-10-16T20:37:53.583872Z",
     "shell.execute_reply.started": "2023-10-16T19:41:57.616482Z"
    },
    "papermill": {
     "duration": 0.02544,
     "end_time": "2023-10-16T20:37:53.583974",
     "exception": false,
     "start_time": "2023-10-16T20:37:53.558534",
     "status": "completed"
    },
    "tags": []
   },
   "outputs": [
    {
     "data": {
      "text/plain": [
       "(372037, 785)"
      ]
     },
     "execution_count": 3,
     "metadata": {},
     "output_type": "execute_result"
    }
   ],
   "source": [
    "df.shape"
   ]
  },
  {
   "cell_type": "code",
   "execution_count": 4,
   "metadata": {
    "execution": {
     "iopub.execute_input": "2023-10-16T20:37:53.629639Z",
     "iopub.status.busy": "2023-10-16T20:37:53.629002Z",
     "iopub.status.idle": "2023-10-16T20:37:53.631884Z",
     "shell.execute_reply": "2023-10-16T20:37:53.631505Z",
     "shell.execute_reply.started": "2023-10-16T19:41:57.627489Z"
    },
    "papermill": {
     "duration": 0.024098,
     "end_time": "2023-10-16T20:37:53.631971",
     "exception": false,
     "start_time": "2023-10-16T20:37:53.607873",
     "status": "completed"
    },
    "tags": []
   },
   "outputs": [],
   "source": [
    "features = df.values[:,1:] \n",
    "labels = df.values[:,0]\n",
    "\n",
    "\n",
    "nr_to_letter = {k:v.upper() for k,v in enumerate(list(string.ascii_lowercase))}"
   ]
  },
  {
   "cell_type": "code",
   "execution_count": 5,
   "metadata": {
    "execution": {
     "iopub.execute_input": "2023-10-16T20:37:53.737768Z",
     "iopub.status.busy": "2023-10-16T20:37:53.737087Z",
     "iopub.status.idle": "2023-10-16T20:37:53.739916Z",
     "shell.execute_reply": "2023-10-16T20:37:53.740347Z",
     "shell.execute_reply.started": "2023-10-16T19:41:57.640245Z"
    },
    "papermill": {
     "duration": 0.091314,
     "end_time": "2023-10-16T20:37:53.740474",
     "exception": false,
     "start_time": "2023-10-16T20:37:53.649160",
     "status": "completed"
    },
    "tags": []
   },
   "outputs": [
    {
     "data": {
      "text/plain": [
       "60"
      ]
     },
     "execution_count": 5,
     "metadata": {},
     "output_type": "execute_result"
    }
   ],
   "source": [
    "# let's carbage collect the df data to release memory\n",
    "import gc\n",
    "\n",
    "del df\n",
    "\n",
    "gc.collect()"
   ]
  },
  {
   "cell_type": "code",
   "execution_count": 6,
   "metadata": {
    "execution": {
     "iopub.execute_input": "2023-10-16T20:37:53.779838Z",
     "iopub.status.busy": "2023-10-16T20:37:53.779078Z",
     "iopub.status.idle": "2023-10-16T20:37:53.782376Z",
     "shell.execute_reply": "2023-10-16T20:37:53.782757Z",
     "shell.execute_reply.started": "2023-10-16T19:41:57.736991Z"
    },
    "papermill": {
     "duration": 0.024495,
     "end_time": "2023-10-16T20:37:53.782858",
     "exception": false,
     "start_time": "2023-10-16T20:37:53.758363",
     "status": "completed"
    },
    "tags": []
   },
   "outputs": [
    {
     "data": {
      "text/plain": [
       "(372037, 784)"
      ]
     },
     "execution_count": 6,
     "metadata": {},
     "output_type": "execute_result"
    }
   ],
   "source": [
    "features.shape"
   ]
  },
  {
   "cell_type": "code",
   "execution_count": 7,
   "metadata": {
    "execution": {
     "iopub.execute_input": "2023-10-16T20:37:53.825177Z",
     "iopub.status.busy": "2023-10-16T20:37:53.824408Z",
     "iopub.status.idle": "2023-10-16T20:37:53.828087Z",
     "shell.execute_reply": "2023-10-16T20:37:53.827734Z",
     "shell.execute_reply.started": "2023-10-16T19:41:57.746343Z"
    },
    "papermill": {
     "duration": 0.027741,
     "end_time": "2023-10-16T20:37:53.828179",
     "exception": false,
     "start_time": "2023-10-16T20:37:53.800438",
     "status": "completed"
    },
    "tags": []
   },
   "outputs": [
    {
     "data": {
      "text/plain": [
       "{0: 'A',\n",
       " 1: 'B',\n",
       " 2: 'C',\n",
       " 3: 'D',\n",
       " 4: 'E',\n",
       " 5: 'F',\n",
       " 6: 'G',\n",
       " 7: 'H',\n",
       " 8: 'I',\n",
       " 9: 'J',\n",
       " 10: 'K',\n",
       " 11: 'L',\n",
       " 12: 'M',\n",
       " 13: 'N',\n",
       " 14: 'O',\n",
       " 15: 'P',\n",
       " 16: 'Q',\n",
       " 17: 'R',\n",
       " 18: 'S',\n",
       " 19: 'T',\n",
       " 20: 'U',\n",
       " 21: 'V',\n",
       " 22: 'W',\n",
       " 23: 'X',\n",
       " 24: 'Y',\n",
       " 25: 'Z'}"
      ]
     },
     "execution_count": 7,
     "metadata": {},
     "output_type": "execute_result"
    }
   ],
   "source": [
    "nr_to_letter"
   ]
  },
  {
   "cell_type": "code",
   "execution_count": 8,
   "metadata": {
    "execution": {
     "iopub.execute_input": "2023-10-16T20:37:53.867894Z",
     "iopub.status.busy": "2023-10-16T20:37:53.867134Z",
     "iopub.status.idle": "2023-10-16T20:37:53.870695Z",
     "shell.execute_reply": "2023-10-16T20:37:53.870331Z",
     "shell.execute_reply.started": "2023-10-16T19:41:57.755888Z"
    },
    "papermill": {
     "duration": 0.024649,
     "end_time": "2023-10-16T20:37:53.870778",
     "exception": false,
     "start_time": "2023-10-16T20:37:53.846129",
     "status": "completed"
    },
    "tags": []
   },
   "outputs": [
    {
     "data": {
      "text/plain": [
       "784"
      ]
     },
     "execution_count": 8,
     "metadata": {},
     "output_type": "execute_result"
    }
   ],
   "source": [
    "28*28"
   ]
  },
  {
   "cell_type": "code",
   "execution_count": 9,
   "metadata": {
    "execution": {
     "iopub.execute_input": "2023-10-16T20:37:53.911321Z",
     "iopub.status.busy": "2023-10-16T20:37:53.910537Z",
     "iopub.status.idle": "2023-10-16T20:37:53.915031Z",
     "shell.execute_reply": "2023-10-16T20:37:53.914205Z",
     "shell.execute_reply.started": "2023-10-16T19:41:57.765524Z"
    },
    "papermill": {
     "duration": 0.026473,
     "end_time": "2023-10-16T20:37:53.915282",
     "exception": false,
     "start_time": "2023-10-16T20:37:53.888809",
     "status": "completed"
    },
    "tags": []
   },
   "outputs": [
    {
     "name": "stdout",
     "output_type": "stream",
     "text": [
      "shape of sample (784,)\n"
     ]
    }
   ],
   "source": [
    "sample = features[0]\n",
    "print(f'shape of sample {sample.shape}')"
   ]
  },
  {
   "cell_type": "markdown",
   "metadata": {
    "papermill": {
     "duration": 0.018737,
     "end_time": "2023-10-16T20:37:53.952864",
     "exception": false,
     "start_time": "2023-10-16T20:37:53.934127",
     "status": "completed"
    },
    "tags": []
   },
   "source": [
    "### Let's get the data only for A and B (we're doing binary classification)"
   ]
  },
  {
   "cell_type": "code",
   "execution_count": 10,
   "metadata": {
    "execution": {
     "iopub.execute_input": "2023-10-16T20:37:53.994005Z",
     "iopub.status.busy": "2023-10-16T20:37:53.993177Z",
     "iopub.status.idle": "2023-10-16T20:37:53.996918Z",
     "shell.execute_reply": "2023-10-16T20:37:53.996541Z",
     "shell.execute_reply.started": "2023-10-16T19:41:57.775409Z"
    },
    "papermill": {
     "duration": 0.025613,
     "end_time": "2023-10-16T20:37:53.997001",
     "exception": false,
     "start_time": "2023-10-16T20:37:53.971388",
     "status": "completed"
    },
    "tags": []
   },
   "outputs": [
    {
     "data": {
      "text/plain": [
       "14881.48"
      ]
     },
     "execution_count": 10,
     "metadata": {},
     "output_type": "execute_result"
    }
   ],
   "source": [
    "labels.shape[0]/25"
   ]
  },
  {
   "cell_type": "code",
   "execution_count": 11,
   "metadata": {
    "execution": {
     "iopub.execute_input": "2023-10-16T20:37:54.037387Z",
     "iopub.status.busy": "2023-10-16T20:37:54.036827Z",
     "iopub.status.idle": "2023-10-16T20:37:54.042617Z",
     "shell.execute_reply": "2023-10-16T20:37:54.042139Z",
     "shell.execute_reply.started": "2023-10-16T19:41:57.783976Z"
    },
    "papermill": {
     "duration": 0.027122,
     "end_time": "2023-10-16T20:37:54.042703",
     "exception": false,
     "start_time": "2023-10-16T20:37:54.015581",
     "status": "completed"
    },
    "tags": []
   },
   "outputs": [
    {
     "data": {
      "text/plain": [
       "0"
      ]
     },
     "execution_count": 11,
     "metadata": {},
     "output_type": "execute_result"
    }
   ],
   "source": [
    "# index of the first occurance of A\n",
    "np.where(labels == 0)[0][0]"
   ]
  },
  {
   "cell_type": "code",
   "execution_count": 12,
   "metadata": {
    "execution": {
     "iopub.execute_input": "2023-10-16T20:37:54.084130Z",
     "iopub.status.busy": "2023-10-16T20:37:54.083343Z",
     "iopub.status.idle": "2023-10-16T20:37:54.087810Z",
     "shell.execute_reply": "2023-10-16T20:37:54.088179Z",
     "shell.execute_reply.started": "2023-10-16T19:41:57.795581Z"
    },
    "papermill": {
     "duration": 0.026868,
     "end_time": "2023-10-16T20:37:54.088315",
     "exception": false,
     "start_time": "2023-10-16T20:37:54.061447",
     "status": "completed"
    },
    "tags": []
   },
   "outputs": [
    {
     "data": {
      "text/plain": [
       "14780"
      ]
     },
     "execution_count": 12,
     "metadata": {},
     "output_type": "execute_result"
    }
   ],
   "source": [
    "# index of the first occurance of B\n",
    "np.where(labels == 1)[0][0]"
   ]
  },
  {
   "cell_type": "code",
   "execution_count": 13,
   "metadata": {
    "execution": {
     "iopub.execute_input": "2023-10-16T20:37:54.131084Z",
     "iopub.status.busy": "2023-10-16T20:37:54.130297Z",
     "iopub.status.idle": "2023-10-16T20:37:54.135043Z",
     "shell.execute_reply": "2023-10-16T20:37:54.134685Z",
     "shell.execute_reply.started": "2023-10-16T19:41:57.805919Z"
    },
    "papermill": {
     "duration": 0.027798,
     "end_time": "2023-10-16T20:37:54.135138",
     "exception": false,
     "start_time": "2023-10-16T20:37:54.107340",
     "status": "completed"
    },
    "tags": []
   },
   "outputs": [
    {
     "data": {
      "text/plain": [
       "23757"
      ]
     },
     "execution_count": 13,
     "metadata": {},
     "output_type": "execute_result"
    }
   ],
   "source": [
    "# index of the first occurance of C\n",
    "np.where(labels == 2)[0][0]"
   ]
  },
  {
   "cell_type": "code",
   "execution_count": 14,
   "metadata": {
    "execution": {
     "iopub.execute_input": "2023-10-16T20:37:54.177131Z",
     "iopub.status.busy": "2023-10-16T20:37:54.176558Z",
     "iopub.status.idle": "2023-10-16T20:37:54.179386Z",
     "shell.execute_reply": "2023-10-16T20:37:54.178978Z",
     "shell.execute_reply.started": "2023-10-16T19:41:57.816289Z"
    },
    "papermill": {
     "duration": 0.025106,
     "end_time": "2023-10-16T20:37:54.179478",
     "exception": false,
     "start_time": "2023-10-16T20:37:54.154372",
     "status": "completed"
    },
    "tags": []
   },
   "outputs": [],
   "source": [
    "features = features[:23757,]"
   ]
  },
  {
   "cell_type": "code",
   "execution_count": 15,
   "metadata": {
    "execution": {
     "iopub.execute_input": "2023-10-16T20:37:54.222281Z",
     "iopub.status.busy": "2023-10-16T20:37:54.221442Z",
     "iopub.status.idle": "2023-10-16T20:37:54.224797Z",
     "shell.execute_reply": "2023-10-16T20:37:54.225184Z",
     "shell.execute_reply.started": "2023-10-16T19:41:57.822575Z"
    },
    "papermill": {
     "duration": 0.026457,
     "end_time": "2023-10-16T20:37:54.225319",
     "exception": false,
     "start_time": "2023-10-16T20:37:54.198862",
     "status": "completed"
    },
    "tags": []
   },
   "outputs": [
    {
     "data": {
      "text/plain": [
       "(23757, 784)"
      ]
     },
     "execution_count": 15,
     "metadata": {},
     "output_type": "execute_result"
    }
   ],
   "source": [
    "features.shape"
   ]
  },
  {
   "cell_type": "code",
   "execution_count": 16,
   "metadata": {
    "execution": {
     "iopub.execute_input": "2023-10-16T20:37:54.268101Z",
     "iopub.status.busy": "2023-10-16T20:37:54.267465Z",
     "iopub.status.idle": "2023-10-16T20:37:54.270398Z",
     "shell.execute_reply": "2023-10-16T20:37:54.269888Z",
     "shell.execute_reply.started": "2023-10-16T19:41:57.833746Z"
    },
    "papermill": {
     "duration": 0.025676,
     "end_time": "2023-10-16T20:37:54.270488",
     "exception": false,
     "start_time": "2023-10-16T20:37:54.244812",
     "status": "completed"
    },
    "tags": []
   },
   "outputs": [],
   "source": [
    "labels = labels[:23757,]"
   ]
  },
  {
   "cell_type": "code",
   "execution_count": 17,
   "metadata": {
    "execution": {
     "iopub.execute_input": "2023-10-16T20:37:54.313968Z",
     "iopub.status.busy": "2023-10-16T20:37:54.313148Z",
     "iopub.status.idle": "2023-10-16T20:37:54.316911Z",
     "shell.execute_reply": "2023-10-16T20:37:54.316531Z",
     "shell.execute_reply.started": "2023-10-16T19:41:57.840862Z"
    },
    "papermill": {
     "duration": 0.026919,
     "end_time": "2023-10-16T20:37:54.316998",
     "exception": false,
     "start_time": "2023-10-16T20:37:54.290079",
     "status": "completed"
    },
    "tags": []
   },
   "outputs": [
    {
     "data": {
      "text/plain": [
       "(23757,)"
      ]
     },
     "execution_count": 17,
     "metadata": {},
     "output_type": "execute_result"
    }
   ],
   "source": [
    "labels.shape"
   ]
  },
  {
   "cell_type": "code",
   "execution_count": 18,
   "metadata": {
    "execution": {
     "iopub.execute_input": "2023-10-16T20:37:54.361157Z",
     "iopub.status.busy": "2023-10-16T20:37:54.360366Z",
     "iopub.status.idle": "2023-10-16T20:37:54.364018Z",
     "shell.execute_reply": "2023-10-16T20:37:54.363654Z",
     "shell.execute_reply.started": "2023-10-16T19:41:57.852020Z"
    },
    "papermill": {
     "duration": 0.026611,
     "end_time": "2023-10-16T20:37:54.364101",
     "exception": false,
     "start_time": "2023-10-16T20:37:54.337490",
     "status": "completed"
    },
    "tags": []
   },
   "outputs": [
    {
     "data": {
      "text/plain": [
       "array([0, 0, 0, ..., 1, 1, 1])"
      ]
     },
     "execution_count": 18,
     "metadata": {},
     "output_type": "execute_result"
    }
   ],
   "source": [
    "labels"
   ]
  },
  {
   "cell_type": "markdown",
   "metadata": {
    "papermill": {
     "duration": 0.019772,
     "end_time": "2023-10-16T20:37:54.404159",
     "exception": false,
     "start_time": "2023-10-16T20:37:54.384387",
     "status": "completed"
    },
    "tags": []
   },
   "source": [
    "## Building the model"
   ]
  },
  {
   "cell_type": "code",
   "execution_count": 19,
   "metadata": {
    "execution": {
     "iopub.execute_input": "2023-10-16T20:37:54.448388Z",
     "iopub.status.busy": "2023-10-16T20:37:54.447777Z",
     "iopub.status.idle": "2023-10-16T20:37:58.622147Z",
     "shell.execute_reply": "2023-10-16T20:37:58.621694Z",
     "shell.execute_reply.started": "2023-10-16T19:41:57.861066Z"
    },
    "papermill": {
     "duration": 4.198242,
     "end_time": "2023-10-16T20:37:58.622280",
     "exception": false,
     "start_time": "2023-10-16T20:37:54.424038",
     "status": "completed"
    },
    "tags": []
   },
   "outputs": [],
   "source": [
    "import numpy as np\n",
    "from random import sample\n",
    "import tensorflow as tf\n",
    "from tensorflow.keras.layers.experimental.preprocessing import Normalization\n",
    "from tensorflow.keras.models import Sequential\n",
    "from tensorflow.keras.layers import Dense\n"
   ]
  },
  {
   "cell_type": "code",
   "execution_count": 20,
   "metadata": {
    "execution": {
     "iopub.execute_input": "2023-10-16T20:37:58.671298Z",
     "iopub.status.busy": "2023-10-16T20:37:58.670437Z",
     "iopub.status.idle": "2023-10-16T20:37:58.673307Z",
     "shell.execute_reply": "2023-10-16T20:37:58.673702Z",
     "shell.execute_reply.started": "2023-10-16T19:42:02.232594Z"
    },
    "papermill": {
     "duration": 0.028767,
     "end_time": "2023-10-16T20:37:58.673805",
     "exception": false,
     "start_time": "2023-10-16T20:37:58.645038",
     "status": "completed"
    },
    "tags": []
   },
   "outputs": [
    {
     "data": {
      "text/plain": [
       "True"
      ]
     },
     "execution_count": 20,
     "metadata": {},
     "output_type": "execute_result"
    }
   ],
   "source": [
    "len(features) == len(labels)"
   ]
  },
  {
   "cell_type": "code",
   "execution_count": 21,
   "metadata": {
    "execution": {
     "iopub.execute_input": "2023-10-16T20:37:58.721440Z",
     "iopub.status.busy": "2023-10-16T20:37:58.720731Z",
     "iopub.status.idle": "2023-10-16T20:37:58.780810Z",
     "shell.execute_reply": "2023-10-16T20:37:58.781161Z",
     "shell.execute_reply.started": "2023-10-16T19:42:02.241508Z"
    },
    "papermill": {
     "duration": 0.086791,
     "end_time": "2023-10-16T20:37:58.781308",
     "exception": false,
     "start_time": "2023-10-16T20:37:58.694517",
     "status": "completed"
    },
    "tags": []
   },
   "outputs": [
    {
     "name": "stdout",
     "output_type": "stream",
     "text": [
      "X_train shape: (23657, 784)\n",
      "X_test shape: (100, 784)\n",
      "\n",
      "Y_train shape: (23657,)\n",
      "Y_test shape: (100,)\n"
     ]
    }
   ],
   "source": [
    "# this is the whole data (training + testing)\n",
    "\n",
    "X = features\n",
    "Y = labels\n",
    "\n",
    "test_item_indices = sample(range(len(X)), 100)\n",
    "\n",
    "mask = np.ones(len(X), dtype=bool)\n",
    "mask[test_item_indices] = False\n",
    "\n",
    "X_train = X[mask]\n",
    "X_test = X[~mask]\n",
    "\n",
    "Y_train = Y[mask]\n",
    "Y_test = Y[~mask]\n",
    "\n",
    "# X_train = X\n",
    "# Y_train = Y\n",
    "\n",
    "print(f'X_train shape: {X_train.shape}')\n",
    "print(f'X_test shape: {X_test.shape}')\n",
    "print()\n",
    "print(f'Y_train shape: {Y_train.shape}')\n",
    "print(f'Y_test shape: {Y_test.shape}')"
   ]
  },
  {
   "cell_type": "markdown",
   "metadata": {
    "papermill": {
     "duration": 0.020866,
     "end_time": "2023-10-16T20:37:58.822760",
     "exception": false,
     "start_time": "2023-10-16T20:37:58.801894",
     "status": "completed"
    },
    "tags": []
   },
   "source": [
    "### Normalizing the data"
   ]
  },
  {
   "cell_type": "code",
   "execution_count": 22,
   "metadata": {
    "execution": {
     "iopub.execute_input": "2023-10-16T20:37:58.869710Z",
     "iopub.status.busy": "2023-10-16T20:37:58.869030Z",
     "iopub.status.idle": "2023-10-16T20:37:58.871584Z",
     "shell.execute_reply": "2023-10-16T20:37:58.871916Z",
     "shell.execute_reply.started": "2023-10-16T19:42:02.313327Z"
    },
    "papermill": {
     "duration": 0.026329,
     "end_time": "2023-10-16T20:37:58.872021",
     "exception": false,
     "start_time": "2023-10-16T20:37:58.845692",
     "status": "completed"
    },
    "tags": []
   },
   "outputs": [],
   "source": [
    "# FOR SOME REASON, NORMALIZING THE DATA REPLACES MOST OF THE DATA POINTS WITH 'nan' SO IT'S COMMENTED TEMPORARILY.\n",
    "\n",
    "# print(f\"pixel 290 (random)   Max, Min pre normalization: {np.max(X_train[:,290]):0.2f}, {np.min(X[:,290]):0.2f}\")\n",
    "# norm_l = Normalization(axis=-1)\n",
    "# norm_l.adapt(X_train)    # learns mean and variance\n",
    "# Xn = norm_l(X_train)\n",
    "# print(f\"pixel 290 (random)    Max, Min post normalization: {np.max(Xn[:,290]):0.2f}, {np.min(Xn[:,290]):0.2f}\")"
   ]
  },
  {
   "cell_type": "code",
   "execution_count": 23,
   "metadata": {
    "execution": {
     "iopub.execute_input": "2023-10-16T20:38:02.473948Z",
     "iopub.status.busy": "2023-10-16T20:38:02.473178Z",
     "iopub.status.idle": "2023-10-16T20:38:02.476482Z",
     "shell.execute_reply": "2023-10-16T20:38:02.476892Z",
     "shell.execute_reply.started": "2023-10-16T19:42:02.319761Z"
    },
    "papermill": {
     "duration": 3.584174,
     "end_time": "2023-10-16T20:38:02.477021",
     "exception": false,
     "start_time": "2023-10-16T20:37:58.892847",
     "status": "completed"
    },
    "tags": []
   },
   "outputs": [
    {
     "name": "stdout",
     "output_type": "stream",
     "text": [
      "(946280, 784)\n",
      "(40, 23657)\n"
     ]
    }
   ],
   "source": [
    "# let's tile the data to make copies of it.\n",
    "Xt = np.tile(X_train, (40, 1))\n",
    "Yt = np.tile(Y_train, (40, 1))\n",
    "\n",
    "print(Xt.shape)\n",
    "print(Yt.shape)"
   ]
  },
  {
   "cell_type": "code",
   "execution_count": 24,
   "metadata": {
    "execution": {
     "iopub.execute_input": "2023-10-16T20:38:02.524034Z",
     "iopub.status.busy": "2023-10-16T20:38:02.523569Z",
     "iopub.status.idle": "2023-10-16T20:38:04.155442Z",
     "shell.execute_reply": "2023-10-16T20:38:04.154853Z",
     "shell.execute_reply.started": "2023-10-16T19:42:04.592745Z"
    },
    "papermill": {
     "duration": 1.657387,
     "end_time": "2023-10-16T20:38:04.155555",
     "exception": false,
     "start_time": "2023-10-16T20:38:02.498168",
     "status": "completed"
    },
    "tags": []
   },
   "outputs": [
    {
     "name": "stdout",
     "output_type": "stream",
     "text": [
      "Model: \"sequential\"\n",
      "_________________________________________________________________\n",
      "Layer (type)                 Output Shape              Param #   \n",
      "=================================================================\n",
      "L1 (Dense)                   (None, 5)                 3925      \n",
      "_________________________________________________________________\n",
      "L2 (Dense)                   (None, 3)                 18        \n",
      "_________________________________________________________________\n",
      "L3 (Dense)                   (None, 1)                 4         \n",
      "=================================================================\n",
      "Total params: 3,947\n",
      "Trainable params: 3,947\n",
      "Non-trainable params: 0\n",
      "_________________________________________________________________\n"
     ]
    }
   ],
   "source": [
    "tf.random.set_seed(4321)\n",
    "model = Sequential([\n",
    "    tf.keras.Input(shape=(784,)),\n",
    "    Dense(5, activation='sigmoid', name='L1'),\n",
    "    Dense(3, activation='sigmoid', name='L2'),\n",
    "    Dense(1, activation='sigmoid', name='L3')\n",
    "])\n",
    "\n",
    "model.summary()"
   ]
  },
  {
   "cell_type": "code",
   "execution_count": 25,
   "metadata": {
    "execution": {
     "iopub.execute_input": "2023-10-16T20:38:04.202100Z",
     "iopub.status.busy": "2023-10-16T20:38:04.201422Z",
     "iopub.status.idle": "2023-10-16T20:38:04.210181Z",
     "shell.execute_reply": "2023-10-16T20:38:04.209812Z",
     "shell.execute_reply.started": "2023-10-16T19:42:06.187381Z"
    },
    "papermill": {
     "duration": 0.033153,
     "end_time": "2023-10-16T20:38:04.210300",
     "exception": false,
     "start_time": "2023-10-16T20:38:04.177147",
     "status": "completed"
    },
    "tags": []
   },
   "outputs": [
    {
     "data": {
      "text/plain": [
       "[array([[ 0.06544602,  0.3397743 , -0.0363667 ],\n",
       "        [-0.709519  ,  0.5357544 , -0.44102708],\n",
       "        [-0.07758152,  0.7249933 , -0.66801214],\n",
       "        [ 0.5746321 , -0.50072545, -0.09467423],\n",
       "        [ 0.14078254,  0.72150177,  0.80555683]], dtype=float32),\n",
       " array([0., 0., 0.], dtype=float32)]"
      ]
     },
     "execution_count": 25,
     "metadata": {},
     "output_type": "execute_result"
    }
   ],
   "source": [
    "model.get_layer('L2').get_weights()"
   ]
  },
  {
   "cell_type": "code",
   "execution_count": 26,
   "metadata": {
    "execution": {
     "iopub.execute_input": "2023-10-16T20:38:04.264105Z",
     "iopub.status.busy": "2023-10-16T20:38:04.263350Z",
     "iopub.status.idle": "2023-10-16T20:38:04.269443Z",
     "shell.execute_reply": "2023-10-16T20:38:04.269024Z",
     "shell.execute_reply.started": "2023-10-16T19:42:06.200188Z"
    },
    "papermill": {
     "duration": 0.037727,
     "end_time": "2023-10-16T20:38:04.269533",
     "exception": false,
     "start_time": "2023-10-16T20:38:04.231806",
     "status": "completed"
    },
    "tags": []
   },
   "outputs": [],
   "source": [
    "model.compile(\n",
    "    loss=tf.keras.losses.BinaryCrossentropy(),\n",
    "    optimizer=tf.keras.optimizers.Adam(learning_rate=0.01),\n",
    ")"
   ]
  },
  {
   "cell_type": "code",
   "execution_count": 27,
   "metadata": {
    "execution": {
     "iopub.execute_input": "2023-10-16T20:38:04.316370Z",
     "iopub.status.busy": "2023-10-16T20:38:04.315298Z",
     "iopub.status.idle": "2023-10-16T20:38:19.142470Z",
     "shell.execute_reply": "2023-10-16T20:38:19.142002Z",
     "shell.execute_reply.started": "2023-10-16T19:53:57.640034Z"
    },
    "papermill": {
     "duration": 14.851569,
     "end_time": "2023-10-16T20:38:19.142576",
     "exception": false,
     "start_time": "2023-10-16T20:38:04.291007",
     "status": "completed"
    },
    "tags": []
   },
   "outputs": [
    {
     "name": "stdout",
     "output_type": "stream",
     "text": [
      "Epoch 1/10\n",
      "740/740 [==============================] - 1s 2ms/step - loss: 0.5416\n",
      "Epoch 2/10\n",
      "740/740 [==============================] - 1s 2ms/step - loss: 0.2949\n",
      "Epoch 3/10\n",
      "740/740 [==============================] - 1s 2ms/step - loss: 0.2180\n",
      "Epoch 4/10\n",
      "740/740 [==============================] - 1s 2ms/step - loss: 0.2299\n",
      "Epoch 5/10\n",
      "740/740 [==============================] - 1s 2ms/step - loss: 0.2637\n",
      "Epoch 6/10\n",
      "740/740 [==============================] - 1s 2ms/step - loss: 0.1611\n",
      "Epoch 7/10\n",
      "740/740 [==============================] - 1s 2ms/step - loss: 0.2246\n",
      "Epoch 8/10\n",
      "740/740 [==============================] - 1s 2ms/step - loss: 0.2458\n",
      "Epoch 9/10\n",
      "740/740 [==============================] - 1s 2ms/step - loss: 0.2048\n",
      "Epoch 10/10\n",
      "740/740 [==============================] - 2s 2ms/step - loss: 0.1906\n"
     ]
    },
    {
     "data": {
      "text/plain": [
       "<tensorflow.python.keras.callbacks.History at 0x7896bc45b150>"
      ]
     },
     "execution_count": 27,
     "metadata": {},
     "output_type": "execute_result"
    }
   ],
   "source": [
    "model.fit(\n",
    "    X_train, Y_train,\n",
    "    epochs=10\n",
    ")"
   ]
  },
  {
   "cell_type": "code",
   "execution_count": 28,
   "metadata": {
    "execution": {
     "iopub.execute_input": "2023-10-16T20:38:19.306746Z",
     "iopub.status.busy": "2023-10-16T20:38:19.305915Z",
     "iopub.status.idle": "2023-10-16T20:38:19.312483Z",
     "shell.execute_reply": "2023-10-16T20:38:19.312056Z",
     "shell.execute_reply.started": "2023-10-16T19:54:19.053568Z"
    },
    "papermill": {
     "duration": 0.089938,
     "end_time": "2023-10-16T20:38:19.312672",
     "exception": false,
     "start_time": "2023-10-16T20:38:19.222734",
     "status": "completed"
    },
    "tags": []
   },
   "outputs": [
    {
     "data": {
      "text/plain": [
       "[array([[-0.26583132,  0.32866943, -0.31083363],\n",
       "        [-1.3758298 ,  0.9005257 , -1.0420251 ],\n",
       "        [-0.13899443,  0.7866308 , -0.728551  ],\n",
       "        [ 5.0527496 , -4.855959  ,  3.8208673 ],\n",
       "        [ 0.08080715,  0.6617811 ,  0.74554193]], dtype=float32),\n",
       " array([-0.66306895,  0.358897  , -0.5970942 ], dtype=float32)]"
      ]
     },
     "execution_count": 28,
     "metadata": {},
     "output_type": "execute_result"
    }
   ],
   "source": [
    "model.get_layer('L2').get_weights()"
   ]
  },
  {
   "cell_type": "code",
   "execution_count": 29,
   "metadata": {
    "execution": {
     "iopub.execute_input": "2023-10-16T20:38:19.478497Z",
     "iopub.status.busy": "2023-10-16T20:38:19.477684Z",
     "iopub.status.idle": "2023-10-16T20:38:19.606675Z",
     "shell.execute_reply": "2023-10-16T20:38:19.606253Z",
     "shell.execute_reply.started": "2023-10-16T19:55:13.039658Z"
    },
    "papermill": {
     "duration": 0.212665,
     "end_time": "2023-10-16T20:38:19.606775",
     "exception": false,
     "start_time": "2023-10-16T20:38:19.394110",
     "status": "completed"
    },
    "tags": []
   },
   "outputs": [
    {
     "name": "stdout",
     "output_type": "stream",
     "text": [
      "4/4 [==============================] - 0s 2ms/step - loss: 0.1003\n"
     ]
    },
    {
     "data": {
      "text/plain": [
       "0.10034599155187607"
      ]
     },
     "execution_count": 29,
     "metadata": {},
     "output_type": "execute_result"
    }
   ],
   "source": [
    "model.evaluate(X_test, Y_test)"
   ]
  },
  {
   "cell_type": "code",
   "execution_count": 30,
   "metadata": {
    "execution": {
     "iopub.execute_input": "2023-10-16T20:38:19.772369Z",
     "iopub.status.busy": "2023-10-16T20:38:19.770354Z",
     "iopub.status.idle": "2023-10-16T20:38:19.861701Z",
     "shell.execute_reply": "2023-10-16T20:38:19.861009Z",
     "shell.execute_reply.started": "2023-10-16T19:56:48.153906Z"
    },
    "papermill": {
     "duration": 0.174952,
     "end_time": "2023-10-16T20:38:19.861820",
     "exception": false,
     "start_time": "2023-10-16T20:38:19.686868",
     "status": "completed"
    },
    "tags": []
   },
   "outputs": [],
   "source": [
    "predictions = model.predict(X_test)"
   ]
  },
  {
   "cell_type": "code",
   "execution_count": 31,
   "metadata": {
    "execution": {
     "iopub.execute_input": "2023-10-16T20:38:20.032685Z",
     "iopub.status.busy": "2023-10-16T20:38:20.031819Z",
     "iopub.status.idle": "2023-10-16T20:38:20.034722Z",
     "shell.execute_reply": "2023-10-16T20:38:20.035091Z",
     "shell.execute_reply.started": "2023-10-16T19:58:25.565659Z"
    },
    "papermill": {
     "duration": 0.089098,
     "end_time": "2023-10-16T20:38:20.035201",
     "exception": false,
     "start_time": "2023-10-16T20:38:19.946103",
     "status": "completed"
    },
    "tags": []
   },
   "outputs": [
    {
     "data": {
      "text/plain": [
       "array([[0.02878842],\n",
       "       [0.02878842],\n",
       "       [0.02878842],\n",
       "       [0.02878842],\n",
       "       [0.02878842],\n",
       "       [0.02878842],\n",
       "       [0.02878842],\n",
       "       [0.02878842],\n",
       "       [0.02878842],\n",
       "       [0.02878842]], dtype=float32)"
      ]
     },
     "execution_count": 31,
     "metadata": {},
     "output_type": "execute_result"
    }
   ],
   "source": [
    "predictions[:10]"
   ]
  },
  {
   "cell_type": "code",
   "execution_count": 32,
   "metadata": {
    "execution": {
     "iopub.execute_input": "2023-10-16T20:38:20.204841Z",
     "iopub.status.busy": "2023-10-16T20:38:20.204284Z",
     "iopub.status.idle": "2023-10-16T20:38:20.207179Z",
     "shell.execute_reply": "2023-10-16T20:38:20.206800Z",
     "shell.execute_reply.started": "2023-10-16T19:58:28.982576Z"
    },
    "papermill": {
     "duration": 0.089519,
     "end_time": "2023-10-16T20:38:20.207308",
     "exception": false,
     "start_time": "2023-10-16T20:38:20.117789",
     "status": "completed"
    },
    "tags": []
   },
   "outputs": [],
   "source": [
    "yhat = (predictions >= 0.5).astype(int)"
   ]
  },
  {
   "cell_type": "code",
   "execution_count": 33,
   "metadata": {
    "execution": {
     "iopub.execute_input": "2023-10-16T20:38:20.372828Z",
     "iopub.status.busy": "2023-10-16T20:38:20.371948Z",
     "iopub.status.idle": "2023-10-16T20:38:20.375493Z",
     "shell.execute_reply": "2023-10-16T20:38:20.375834Z",
     "shell.execute_reply.started": "2023-10-16T20:00:42.406852Z"
    },
    "papermill": {
     "duration": 0.088771,
     "end_time": "2023-10-16T20:38:20.375946",
     "exception": false,
     "start_time": "2023-10-16T20:38:20.287175",
     "status": "completed"
    },
    "tags": []
   },
   "outputs": [
    {
     "data": {
      "text/plain": [
       "array([[0],\n",
       "       [0],\n",
       "       [0],\n",
       "       [0],\n",
       "       [0],\n",
       "       [0],\n",
       "       [0],\n",
       "       [0],\n",
       "       [0],\n",
       "       [0],\n",
       "       [0],\n",
       "       [0],\n",
       "       [0],\n",
       "       [0],\n",
       "       [0],\n",
       "       [1],\n",
       "       [0],\n",
       "       [0],\n",
       "       [0],\n",
       "       [0],\n",
       "       [0],\n",
       "       [0],\n",
       "       [0],\n",
       "       [0],\n",
       "       [0],\n",
       "       [0],\n",
       "       [0],\n",
       "       [0],\n",
       "       [0],\n",
       "       [0],\n",
       "       [0],\n",
       "       [0],\n",
       "       [0],\n",
       "       [0],\n",
       "       [0],\n",
       "       [0],\n",
       "       [0],\n",
       "       [0],\n",
       "       [0],\n",
       "       [0],\n",
       "       [0],\n",
       "       [0],\n",
       "       [0],\n",
       "       [0],\n",
       "       [0],\n",
       "       [0],\n",
       "       [0],\n",
       "       [0],\n",
       "       [0],\n",
       "       [0],\n",
       "       [0],\n",
       "       [0],\n",
       "       [0],\n",
       "       [0],\n",
       "       [0],\n",
       "       [0],\n",
       "       [0],\n",
       "       [0],\n",
       "       [0],\n",
       "       [0],\n",
       "       [1],\n",
       "       [1],\n",
       "       [1],\n",
       "       [1],\n",
       "       [1],\n",
       "       [1],\n",
       "       [1],\n",
       "       [1],\n",
       "       [1],\n",
       "       [1],\n",
       "       [1],\n",
       "       [1],\n",
       "       [1],\n",
       "       [1],\n",
       "       [1],\n",
       "       [1],\n",
       "       [1],\n",
       "       [1],\n",
       "       [1],\n",
       "       [1],\n",
       "       [1],\n",
       "       [1],\n",
       "       [1],\n",
       "       [1],\n",
       "       [1],\n",
       "       [1],\n",
       "       [1],\n",
       "       [1],\n",
       "       [0],\n",
       "       [1],\n",
       "       [1],\n",
       "       [1],\n",
       "       [1],\n",
       "       [1],\n",
       "       [1],\n",
       "       [1],\n",
       "       [1],\n",
       "       [1],\n",
       "       [1],\n",
       "       [1]])"
      ]
     },
     "execution_count": 33,
     "metadata": {},
     "output_type": "execute_result"
    }
   ],
   "source": [
    "\n",
    "yhat"
   ]
  },
  {
   "cell_type": "code",
   "execution_count": 34,
   "metadata": {
    "execution": {
     "iopub.execute_input": "2023-10-16T20:38:20.543039Z",
     "iopub.status.busy": "2023-10-16T20:38:20.542284Z",
     "iopub.status.idle": "2023-10-16T20:38:20.656041Z",
     "shell.execute_reply": "2023-10-16T20:38:20.655646Z",
     "shell.execute_reply.started": "2023-10-16T20:12:13.306743Z"
    },
    "papermill": {
     "duration": 0.199308,
     "end_time": "2023-10-16T20:38:20.656141",
     "exception": false,
     "start_time": "2023-10-16T20:38:20.456833",
     "status": "completed"
    },
    "tags": []
   },
   "outputs": [
    {
     "data": {
      "text/plain": [
       "array([[[0.02878842]]], dtype=float32)"
      ]
     },
     "execution_count": 34,
     "metadata": {},
     "output_type": "execute_result"
    }
   ],
   "source": [
    "# probability of the first element being a 'B' (but we know it's 'A')\n",
    "model.predict(X_train[0].reshape(1, 1, len(X_train[0])))"
   ]
  },
  {
   "cell_type": "code",
   "execution_count": null,
   "metadata": {
    "papermill": {
     "duration": 0.080467,
     "end_time": "2023-10-16T20:38:20.818112",
     "exception": false,
     "start_time": "2023-10-16T20:38:20.737645",
     "status": "completed"
    },
    "tags": []
   },
   "outputs": [],
   "source": []
  }
 ],
 "metadata": {
  "kernelspec": {
   "display_name": "Python 3",
   "language": "python",
   "name": "python3"
  },
  "language_info": {
   "codemirror_mode": {
    "name": "ipython",
    "version": 3
   },
   "file_extension": ".py",
   "mimetype": "text/x-python",
   "name": "python",
   "nbconvert_exporter": "python",
   "pygments_lexer": "ipython3",
   "version": "3.7.6"
  },
  "papermill": {
   "duration": 58.690345,
   "end_time": "2023-10-16T20:38:21.970176",
   "environment_variables": {},
   "exception": null,
   "input_path": "__notebook__.ipynb",
   "output_path": "__notebook__.ipynb",
   "parameters": {},
   "start_time": "2023-10-16T20:37:23.279831",
   "version": "2.1.0"
  }
 },
 "nbformat": 4,
 "nbformat_minor": 4
}
