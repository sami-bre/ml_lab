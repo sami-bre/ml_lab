{
 "cells": [
  {
   "cell_type": "code",
   "execution_count": 1,
   "id": "b8afc60e",
   "metadata": {
    "execution": {
     "iopub.execute_input": "2023-10-15T14:58:37.439058Z",
     "iopub.status.busy": "2023-10-15T14:58:37.438396Z",
     "iopub.status.idle": "2023-10-15T14:58:37.447230Z",
     "shell.execute_reply": "2023-10-15T14:58:37.446502Z"
    },
    "papermill": {
     "duration": 0.019568,
     "end_time": "2023-10-15T14:58:37.449023",
     "exception": false,
     "start_time": "2023-10-15T14:58:37.429455",
     "status": "completed"
    },
    "tags": []
   },
   "outputs": [],
   "source": [
    "import numpy as np"
   ]
  },
  {
   "cell_type": "code",
   "execution_count": 2,
   "id": "459869f6",
   "metadata": {
    "execution": {
     "iopub.execute_input": "2023-10-15T14:58:37.459818Z",
     "iopub.status.busy": "2023-10-15T14:58:37.459181Z",
     "iopub.status.idle": "2023-10-15T14:58:37.462786Z",
     "shell.execute_reply": "2023-10-15T14:58:37.462192Z"
    },
    "papermill": {
     "duration": 0.010712,
     "end_time": "2023-10-15T14:58:37.464392",
     "exception": false,
     "start_time": "2023-10-15T14:58:37.453680",
     "status": "completed"
    },
    "tags": []
   },
   "outputs": [],
   "source": [
    "set_w = np.array([[200]])\n",
    "set_b = np.array([[100]])"
   ]
  },
  {
   "cell_type": "code",
   "execution_count": 3,
   "id": "3a22eac9",
   "metadata": {
    "execution": {
     "iopub.execute_input": "2023-10-15T14:58:37.474693Z",
     "iopub.status.busy": "2023-10-15T14:58:37.474155Z",
     "iopub.status.idle": "2023-10-15T14:58:37.478414Z",
     "shell.execute_reply": "2023-10-15T14:58:37.477536Z"
    },
    "papermill": {
     "duration": 0.011478,
     "end_time": "2023-10-15T14:58:37.480232",
     "exception": false,
     "start_time": "2023-10-15T14:58:37.468754",
     "status": "completed"
    },
    "tags": []
   },
   "outputs": [],
   "source": [
    "x_train = np.array([[1.0], [2.0]], dtype=np.float32)"
   ]
  },
  {
   "cell_type": "code",
   "execution_count": 4,
   "id": "043a7cbe",
   "metadata": {
    "execution": {
     "iopub.execute_input": "2023-10-15T14:58:37.490577Z",
     "iopub.status.busy": "2023-10-15T14:58:37.490229Z",
     "iopub.status.idle": "2023-10-15T14:58:37.494149Z",
     "shell.execute_reply": "2023-10-15T14:58:37.493235Z"
    },
    "papermill": {
     "duration": 0.011246,
     "end_time": "2023-10-15T14:58:37.496024",
     "exception": false,
     "start_time": "2023-10-15T14:58:37.484778",
     "status": "completed"
    },
    "tags": []
   },
   "outputs": [],
   "source": [
    "res = np.dot(x_train, set_w)"
   ]
  },
  {
   "cell_type": "code",
   "execution_count": 5,
   "id": "6becd146",
   "metadata": {
    "execution": {
     "iopub.execute_input": "2023-10-15T14:58:37.508473Z",
     "iopub.status.busy": "2023-10-15T14:58:37.508150Z",
     "iopub.status.idle": "2023-10-15T14:58:37.514992Z",
     "shell.execute_reply": "2023-10-15T14:58:37.514030Z"
    },
    "papermill": {
     "duration": 0.014728,
     "end_time": "2023-10-15T14:58:37.517198",
     "exception": false,
     "start_time": "2023-10-15T14:58:37.502470",
     "status": "completed"
    },
    "tags": []
   },
   "outputs": [
    {
     "data": {
      "text/plain": [
       "array([[200.],\n",
       "       [400.]])"
      ]
     },
     "execution_count": 5,
     "metadata": {},
     "output_type": "execute_result"
    }
   ],
   "source": [
    "res"
   ]
  },
  {
   "cell_type": "code",
   "execution_count": 6,
   "id": "8f9749c8",
   "metadata": {
    "execution": {
     "iopub.execute_input": "2023-10-15T14:58:37.527897Z",
     "iopub.status.busy": "2023-10-15T14:58:37.527571Z",
     "iopub.status.idle": "2023-10-15T14:58:37.532162Z",
     "shell.execute_reply": "2023-10-15T14:58:37.531341Z"
    },
    "papermill": {
     "duration": 0.012136,
     "end_time": "2023-10-15T14:58:37.534037",
     "exception": false,
     "start_time": "2023-10-15T14:58:37.521901",
     "status": "completed"
    },
    "tags": []
   },
   "outputs": [],
   "source": [
    "res2 = np.dot(set_w, set_b)"
   ]
  },
  {
   "cell_type": "code",
   "execution_count": 7,
   "id": "d90d335e",
   "metadata": {
    "execution": {
     "iopub.execute_input": "2023-10-15T14:58:37.545655Z",
     "iopub.status.busy": "2023-10-15T14:58:37.544775Z",
     "iopub.status.idle": "2023-10-15T14:58:37.550472Z",
     "shell.execute_reply": "2023-10-15T14:58:37.549719Z"
    },
    "papermill": {
     "duration": 0.013586,
     "end_time": "2023-10-15T14:58:37.552527",
     "exception": false,
     "start_time": "2023-10-15T14:58:37.538941",
     "status": "completed"
    },
    "tags": []
   },
   "outputs": [
    {
     "data": {
      "text/plain": [
       "array([[20000]])"
      ]
     },
     "execution_count": 7,
     "metadata": {},
     "output_type": "execute_result"
    }
   ],
   "source": [
    "res2"
   ]
  },
  {
   "cell_type": "code",
   "execution_count": 8,
   "id": "0701da6a",
   "metadata": {
    "execution": {
     "iopub.execute_input": "2023-10-15T14:58:37.563558Z",
     "iopub.status.busy": "2023-10-15T14:58:37.563204Z",
     "iopub.status.idle": "2023-10-15T14:58:37.569658Z",
     "shell.execute_reply": "2023-10-15T14:58:37.568968Z"
    },
    "papermill": {
     "duration": 0.014023,
     "end_time": "2023-10-15T14:58:37.571262",
     "exception": false,
     "start_time": "2023-10-15T14:58:37.557239",
     "status": "completed"
    },
    "tags": []
   },
   "outputs": [
    {
     "data": {
      "text/plain": [
       "array([[False],\n",
       "       [False],\n",
       "       [False],\n",
       "       [ True],\n",
       "       [ True],\n",
       "       [ True]])"
      ]
     },
     "execution_count": 8,
     "metadata": {},
     "output_type": "execute_result"
    }
   ],
   "source": [
    "Y_train = np.array([0,  0, 0, 1, 1, 1], dtype=np.float32).reshape(-1,1)  # 2-D Matrix\n",
    "pos = Y_train == 1\n",
    "pos"
   ]
  },
  {
   "cell_type": "code",
   "execution_count": 9,
   "id": "411ca6ca",
   "metadata": {
    "execution": {
     "iopub.execute_input": "2023-10-15T14:58:37.581901Z",
     "iopub.status.busy": "2023-10-15T14:58:37.581587Z",
     "iopub.status.idle": "2023-10-15T14:58:37.586392Z",
     "shell.execute_reply": "2023-10-15T14:58:37.585378Z"
    },
    "papermill": {
     "duration": 0.0121,
     "end_time": "2023-10-15T14:58:37.588076",
     "exception": false,
     "start_time": "2023-10-15T14:58:37.575976",
     "status": "completed"
    },
    "tags": []
   },
   "outputs": [],
   "source": [
    "X_train = np.array([0., 1, 2, 3, 4, 5], dtype=np.float32).reshape(-1,1)  # 2-D Matrix"
   ]
  },
  {
   "cell_type": "code",
   "execution_count": 10,
   "id": "0e81d4bf",
   "metadata": {
    "execution": {
     "iopub.execute_input": "2023-10-15T14:58:37.598735Z",
     "iopub.status.busy": "2023-10-15T14:58:37.598410Z",
     "iopub.status.idle": "2023-10-15T14:58:37.605151Z",
     "shell.execute_reply": "2023-10-15T14:58:37.604191Z"
    },
    "papermill": {
     "duration": 0.014182,
     "end_time": "2023-10-15T14:58:37.607001",
     "exception": false,
     "start_time": "2023-10-15T14:58:37.592819",
     "status": "completed"
    },
    "tags": []
   },
   "outputs": [
    {
     "data": {
      "text/plain": [
       "array([3., 4., 5.], dtype=float32)"
      ]
     },
     "execution_count": 10,
     "metadata": {},
     "output_type": "execute_result"
    }
   ],
   "source": [
    "X_train[pos]"
   ]
  },
  {
   "cell_type": "code",
   "execution_count": 11,
   "id": "3d26dd79",
   "metadata": {
    "execution": {
     "iopub.execute_input": "2023-10-15T14:58:37.617603Z",
     "iopub.status.busy": "2023-10-15T14:58:37.617245Z",
     "iopub.status.idle": "2023-10-15T14:58:37.623866Z",
     "shell.execute_reply": "2023-10-15T14:58:37.623106Z"
    },
    "papermill": {
     "duration": 0.01387,
     "end_time": "2023-10-15T14:58:37.625585",
     "exception": false,
     "start_time": "2023-10-15T14:58:37.611715",
     "status": "completed"
    },
    "tags": []
   },
   "outputs": [
    {
     "data": {
      "text/plain": [
       "array([[0.],\n",
       "       [4.],\n",
       "       [5.]], dtype=float32)"
      ]
     },
     "execution_count": 11,
     "metadata": {},
     "output_type": "execute_result"
    }
   ],
   "source": [
    "X_train[[True, False, False, False, True, True]]"
   ]
  },
  {
   "cell_type": "code",
   "execution_count": 12,
   "id": "efcd027d",
   "metadata": {
    "execution": {
     "iopub.execute_input": "2023-10-15T14:58:37.637058Z",
     "iopub.status.busy": "2023-10-15T14:58:37.636711Z",
     "iopub.status.idle": "2023-10-15T14:58:45.660430Z",
     "shell.execute_reply": "2023-10-15T14:58:45.659321Z"
    },
    "papermill": {
     "duration": 8.032257,
     "end_time": "2023-10-15T14:58:45.662885",
     "exception": false,
     "start_time": "2023-10-15T14:58:37.630628",
     "status": "completed"
    },
    "tags": []
   },
   "outputs": [],
   "source": [
    "from tensorflow.keras.layers import Dense"
   ]
  },
  {
   "cell_type": "code",
   "execution_count": 13,
   "id": "693b560e",
   "metadata": {
    "execution": {
     "iopub.execute_input": "2023-10-15T14:58:45.675102Z",
     "iopub.status.busy": "2023-10-15T14:58:45.674487Z",
     "iopub.status.idle": "2023-10-15T14:58:45.679910Z",
     "shell.execute_reply": "2023-10-15T14:58:45.679132Z"
    },
    "papermill": {
     "duration": 0.013481,
     "end_time": "2023-10-15T14:58:45.681698",
     "exception": false,
     "start_time": "2023-10-15T14:58:45.668217",
     "status": "completed"
    },
    "tags": []
   },
   "outputs": [],
   "source": [
    "from tensorflow.keras.models import Sequential"
   ]
  },
  {
   "cell_type": "code",
   "execution_count": 14,
   "id": "7c6bda23",
   "metadata": {
    "execution": {
     "iopub.execute_input": "2023-10-15T14:58:45.693567Z",
     "iopub.status.busy": "2023-10-15T14:58:45.693023Z",
     "iopub.status.idle": "2023-10-15T14:58:45.697214Z",
     "shell.execute_reply": "2023-10-15T14:58:45.696600Z"
    },
    "papermill": {
     "duration": 0.012135,
     "end_time": "2023-10-15T14:58:45.699000",
     "exception": false,
     "start_time": "2023-10-15T14:58:45.686865",
     "status": "completed"
    },
    "tags": []
   },
   "outputs": [],
   "source": [
    "x = np.array([[200, 17]])"
   ]
  },
  {
   "cell_type": "code",
   "execution_count": 15,
   "id": "db427ad1",
   "metadata": {
    "execution": {
     "iopub.execute_input": "2023-10-15T14:58:45.710431Z",
     "iopub.status.busy": "2023-10-15T14:58:45.709950Z",
     "iopub.status.idle": "2023-10-15T14:58:45.727635Z",
     "shell.execute_reply": "2023-10-15T14:58:45.726666Z"
    },
    "papermill": {
     "duration": 0.025788,
     "end_time": "2023-10-15T14:58:45.729827",
     "exception": false,
     "start_time": "2023-10-15T14:58:45.704039",
     "status": "completed"
    },
    "tags": []
   },
   "outputs": [],
   "source": [
    "layer_1 = Dense(units=3, activation='sigmoid')"
   ]
  },
  {
   "cell_type": "code",
   "execution_count": 16,
   "id": "9a71a2f7",
   "metadata": {
    "execution": {
     "iopub.execute_input": "2023-10-15T14:58:45.741787Z",
     "iopub.status.busy": "2023-10-15T14:58:45.741198Z",
     "iopub.status.idle": "2023-10-15T14:58:45.880309Z",
     "shell.execute_reply": "2023-10-15T14:58:45.879464Z"
    },
    "papermill": {
     "duration": 0.147587,
     "end_time": "2023-10-15T14:58:45.882572",
     "exception": false,
     "start_time": "2023-10-15T14:58:45.734985",
     "status": "completed"
    },
    "tags": []
   },
   "outputs": [],
   "source": [
    "a1 = layer_1(x)"
   ]
  },
  {
   "cell_type": "code",
   "execution_count": 17,
   "id": "7fb3503c",
   "metadata": {
    "execution": {
     "iopub.execute_input": "2023-10-15T14:58:45.894347Z",
     "iopub.status.busy": "2023-10-15T14:58:45.893722Z",
     "iopub.status.idle": "2023-10-15T14:58:45.898941Z",
     "shell.execute_reply": "2023-10-15T14:58:45.898335Z"
    },
    "papermill": {
     "duration": 0.012955,
     "end_time": "2023-10-15T14:58:45.900606",
     "exception": false,
     "start_time": "2023-10-15T14:58:45.887651",
     "status": "completed"
    },
    "tags": []
   },
   "outputs": [
    {
     "data": {
      "text/plain": [
       "<tf.Tensor: shape=(1, 3), dtype=float32, numpy=array([[1.1822347e-33, 4.5144865e-27, 5.3544661e-26]], dtype=float32)>"
      ]
     },
     "execution_count": 17,
     "metadata": {},
     "output_type": "execute_result"
    }
   ],
   "source": [
    "a1"
   ]
  },
  {
   "cell_type": "code",
   "execution_count": 18,
   "id": "10be07bb",
   "metadata": {
    "execution": {
     "iopub.execute_input": "2023-10-15T14:58:45.912554Z",
     "iopub.status.busy": "2023-10-15T14:58:45.911758Z",
     "iopub.status.idle": "2023-10-15T14:58:45.919439Z",
     "shell.execute_reply": "2023-10-15T14:58:45.918762Z"
    },
    "papermill": {
     "duration": 0.015319,
     "end_time": "2023-10-15T14:58:45.921049",
     "exception": false,
     "start_time": "2023-10-15T14:58:45.905730",
     "status": "completed"
    },
    "tags": []
   },
   "outputs": [
    {
     "data": {
      "text/plain": [
       "[array([[-0.40766096, -0.2295739 , -0.21472174],\n",
       "        [ 0.3361349 , -0.86751324, -0.8967608 ]], dtype=float32),\n",
       " array([0., 0., 0.], dtype=float32)]"
      ]
     },
     "execution_count": 18,
     "metadata": {},
     "output_type": "execute_result"
    }
   ],
   "source": [
    "layer_1.get_weights()"
   ]
  },
  {
   "cell_type": "code",
   "execution_count": 19,
   "id": "deef28c1",
   "metadata": {
    "execution": {
     "iopub.execute_input": "2023-10-15T14:58:45.932905Z",
     "iopub.status.busy": "2023-10-15T14:58:45.932326Z",
     "iopub.status.idle": "2023-10-15T14:58:45.937489Z",
     "shell.execute_reply": "2023-10-15T14:58:45.936789Z"
    },
    "papermill": {
     "duration": 0.012949,
     "end_time": "2023-10-15T14:58:45.939096",
     "exception": false,
     "start_time": "2023-10-15T14:58:45.926147",
     "status": "completed"
    },
    "tags": []
   },
   "outputs": [],
   "source": [
    "layer_2 = Dense(units=1, activation='sigmoid')"
   ]
  },
  {
   "cell_type": "code",
   "execution_count": 20,
   "id": "5126d3d9",
   "metadata": {
    "execution": {
     "iopub.execute_input": "2023-10-15T14:58:45.950661Z",
     "iopub.status.busy": "2023-10-15T14:58:45.950102Z",
     "iopub.status.idle": "2023-10-15T14:58:45.963160Z",
     "shell.execute_reply": "2023-10-15T14:58:45.962487Z"
    },
    "papermill": {
     "duration": 0.021181,
     "end_time": "2023-10-15T14:58:45.965247",
     "exception": false,
     "start_time": "2023-10-15T14:58:45.944066",
     "status": "completed"
    },
    "tags": []
   },
   "outputs": [],
   "source": [
    "a2 = layer_2(a1)"
   ]
  },
  {
   "cell_type": "code",
   "execution_count": 21,
   "id": "086092fa",
   "metadata": {
    "execution": {
     "iopub.execute_input": "2023-10-15T14:58:45.976802Z",
     "iopub.status.busy": "2023-10-15T14:58:45.976479Z",
     "iopub.status.idle": "2023-10-15T14:58:45.982507Z",
     "shell.execute_reply": "2023-10-15T14:58:45.981579Z"
    },
    "papermill": {
     "duration": 0.014445,
     "end_time": "2023-10-15T14:58:45.984868",
     "exception": false,
     "start_time": "2023-10-15T14:58:45.970423",
     "status": "completed"
    },
    "tags": []
   },
   "outputs": [
    {
     "data": {
      "text/plain": [
       "<tf.Tensor: shape=(1, 1), dtype=float32, numpy=array([[0.5]], dtype=float32)>"
      ]
     },
     "execution_count": 21,
     "metadata": {},
     "output_type": "execute_result"
    }
   ],
   "source": [
    "a2"
   ]
  },
  {
   "cell_type": "code",
   "execution_count": 22,
   "id": "5ecda235",
   "metadata": {
    "execution": {
     "iopub.execute_input": "2023-10-15T14:58:45.997828Z",
     "iopub.status.busy": "2023-10-15T14:58:45.997494Z",
     "iopub.status.idle": "2023-10-15T14:58:46.285437Z",
     "shell.execute_reply": "2023-10-15T14:58:46.284145Z"
    },
    "papermill": {
     "duration": 0.296066,
     "end_time": "2023-10-15T14:58:46.287242",
     "exception": false,
     "start_time": "2023-10-15T14:58:45.991176",
     "status": "completed"
    },
    "tags": []
   },
   "outputs": [
    {
     "name": "stdout",
     "output_type": "stream",
     "text": [
      "1/1 [==============================] - 0s 186ms/step\n"
     ]
    },
    {
     "data": {
      "text/plain": [
       "array([[0.26429492]], dtype=float32)"
      ]
     },
     "execution_count": 22,
     "metadata": {},
     "output_type": "execute_result"
    }
   ],
   "source": [
    "x = np.array([[200, 17]])\n",
    "\n",
    "layer_1 = Dense(units=3, activation='sigmoid', name='l1')\n",
    "layer_2 = Dense(units=1, activation='sigmoid', name='l2')\n",
    "\n",
    "# an alternative, simpler way of doing forward prop\n",
    "model = Sequential([layer_1, layer_2])\n",
    "res = model.predict(x)\n",
    "res"
   ]
  },
  {
   "cell_type": "code",
   "execution_count": 23,
   "id": "614e99c2",
   "metadata": {
    "execution": {
     "iopub.execute_input": "2023-10-15T14:58:46.300167Z",
     "iopub.status.busy": "2023-10-15T14:58:46.299117Z",
     "iopub.status.idle": "2023-10-15T14:58:46.315970Z",
     "shell.execute_reply": "2023-10-15T14:58:46.314835Z"
    },
    "papermill": {
     "duration": 0.026185,
     "end_time": "2023-10-15T14:58:46.318983",
     "exception": false,
     "start_time": "2023-10-15T14:58:46.292798",
     "status": "completed"
    },
    "tags": []
   },
   "outputs": [
    {
     "name": "stdout",
     "output_type": "stream",
     "text": [
      "Model: \"sequential\"\n",
      "_________________________________________________________________\n",
      " Layer (type)                Output Shape              Param #   \n",
      "=================================================================\n",
      " l1 (Dense)                  (None, 3)                 9         \n",
      "                                                                 \n",
      " l2 (Dense)                  (None, 1)                 4         \n",
      "                                                                 \n",
      "=================================================================\n",
      "Total params: 13\n",
      "Trainable params: 13\n",
      "Non-trainable params: 0\n",
      "_________________________________________________________________\n"
     ]
    }
   ],
   "source": [
    "model.summary()"
   ]
  }
 ],
 "metadata": {
  "kernelspec": {
   "display_name": "Python 3",
   "language": "python",
   "name": "python3"
  },
  "language_info": {
   "codemirror_mode": {
    "name": "ipython",
    "version": 3
   },
   "file_extension": ".py",
   "mimetype": "text/x-python",
   "name": "python",
   "nbconvert_exporter": "python",
   "pygments_lexer": "ipython3",
   "version": "3.10.12"
  },
  "papermill": {
   "default_parameters": {},
   "duration": 14.24647,
   "end_time": "2023-10-15T14:58:48.681983",
   "environment_variables": {},
   "exception": null,
   "input_path": "__notebook__.ipynb",
   "output_path": "__notebook__.ipynb",
   "parameters": {},
   "start_time": "2023-10-15T14:58:34.435513",
   "version": "2.4.0"
  }
 },
 "nbformat": 4,
 "nbformat_minor": 5
}
